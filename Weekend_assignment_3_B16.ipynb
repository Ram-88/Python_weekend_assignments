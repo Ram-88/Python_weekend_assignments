{
 "cells": [
  {
   "cell_type": "code",
   "execution_count": null,
   "metadata": {},
   "outputs": [],
   "source": [
    "Sandwiches: Write a function that accepts a list of items a person wants on a sandwich.\n",
    "    The function should have one parameter that collects as many items as the function call provides, \n",
    "    and it should print a summary of the sand- wich that’s being ordered. Call the function three times, \n",
    "    using a different num- ber of arguments each time."
   ]
  },
  {
   "cell_type": "code",
   "execution_count": 55,
   "metadata": {},
   "outputs": [],
   "source": [
    "def sandwich(*args):\n",
    "    \"\"\"Function to display the ordered items in a sandwich\"\"\"\n",
    "    print('Your sandwich will have the below items, Have a happy meal!\\n')\n",
    "    for item in args:\n",
    "        print(item)"
   ]
  },
  {
   "cell_type": "code",
   "execution_count": 56,
   "metadata": {},
   "outputs": [
    {
     "name": "stdout",
     "output_type": "stream",
     "text": [
      "Your sandwich will have the below items, Have a happy meal!\n",
      "\n",
      "Cheese\n",
      "Corn\n"
     ]
    }
   ],
   "source": [
    "sandwich('Cheese','Corn')"
   ]
  },
  {
   "cell_type": "code",
   "execution_count": 31,
   "metadata": {},
   "outputs": [
    {
     "name": "stdout",
     "output_type": "stream",
     "text": [
      "Your sandwich will have the below items, Have a happy meal!\n",
      "\n",
      "Mushroom\n",
      "Cheese\n",
      "Tomatto\n"
     ]
    }
   ],
   "source": [
    "sandwich('Mushroom','Cheese','Tomatto')"
   ]
  },
  {
   "cell_type": "code",
   "execution_count": 32,
   "metadata": {},
   "outputs": [
    {
     "name": "stdout",
     "output_type": "stream",
     "text": [
      "Your sandwich will have the below items, Have a happy meal!\n",
      "\n",
      "Chicken\n",
      "Cabbage\n",
      "Green-chilly\n",
      "Onion\n"
     ]
    }
   ],
   "source": [
    "sandwich('Chicken','Cabbage','Green-chilly','Onion')"
   ]
  },
  {
   "cell_type": "code",
   "execution_count": 33,
   "metadata": {},
   "outputs": [],
   "source": [
    "#Scenario 2"
   ]
  },
  {
   "cell_type": "code",
   "execution_count": null,
   "metadata": {},
   "outputs": [],
   "source": [
    "Cars: Write a function that stores information about a car in a diction- ary.\n",
    "    The function should always receive a manufacturer and a model name. \n",
    "    It should then accept an arbitrary number of keyword arguments. \n",
    "    Call the func- tion with the required information and two other name-value pairs, such as a color or an optional feature.\n",
    "    Your function should work for a call like this one:\n",
    "\n",
    "car = make_car('subaru', 'outback', color='blue', tow_package=True)\n",
    "\n",
    "Print the dictionary that’s returned to make sure all the information was stored correctly.\n",
    "    "
   ]
  },
  {
   "cell_type": "code",
   "execution_count": 58,
   "metadata": {},
   "outputs": [
    {
     "name": "stdout",
     "output_type": "stream",
     "text": [
      "{'Manufacturer': 'subaru', 'Model': 'outback', 'color': 'blue', 'tow_package': True}\n"
     ]
    }
   ],
   "source": [
    "def make_car(company,model,**kwargs):\n",
    "    \"\"\"Function to display car specification details\"\"\"\n",
    "    veh = {'Manufacturer':company,'Model':model}\n",
    "    veh.update(kwargs)\n",
    "    return veh\n",
    "    \n",
    "car = make_car('subaru','outback',color='blue',tow_package=True)\n",
    "print(car)"
   ]
  },
  {
   "cell_type": "code",
   "execution_count": 59,
   "metadata": {},
   "outputs": [],
   "source": [
    "#scenario 3"
   ]
  },
  {
   "cell_type": "code",
   "execution_count": null,
   "metadata": {},
   "outputs": [],
   "source": [
    "Exceptional handling Scenario : Try it if you can ....!\n",
    "\n",
    "\n",
    "\n",
    "Addition: One common problem when prompting for numerical input occurs when people provide text instead of numbers.\n",
    "    When you try to convert the input to an int, you’ll get a ValueError. Write a program that prompts for two numbers.\n",
    "    Add them together and print the result. \n",
    "    Catch the ValueError if either input value is not a number, and print a friendly error message.\n",
    "    Test your program by entering two numbers and then by entering some text instead of a number."
   ]
  },
  {
   "cell_type": "code",
   "execution_count": null,
   "metadata": {},
   "outputs": [],
   "source": []
  },
  {
   "cell_type": "code",
   "execution_count": 75,
   "metadata": {},
   "outputs": [
    {
     "name": "stdout",
     "output_type": "stream",
     "text": [
      "Enter a value for addition: 10\n",
      "Enter another value for addition: 23\n",
      "sum of two values is : 33\n",
      "Program completed!\n"
     ]
    }
   ],
   "source": [
    "a = input('Enter a value for addition: ')\n",
    "b = input('Enter another value for addition: ')\n",
    "\n",
    "try:\n",
    "    a = int(a)\n",
    "    b = int(b)\n",
    "    print(f\"sum of two values is : {a + b}\")\n",
    "except ValueError:\n",
    "    print('Given input values are not numbers, please enter values only in numbers.')\n",
    "else:\n",
    "    print('Program completed!')"
   ]
  },
  {
   "cell_type": "code",
   "execution_count": 76,
   "metadata": {},
   "outputs": [
    {
     "name": "stdout",
     "output_type": "stream",
     "text": [
      "Enter a value for addition: one\n",
      "Enter another value for addition: 12\n",
      "Given input values are not numbers, please enter values only in numbers.\n"
     ]
    }
   ],
   "source": [
    "a = input('Enter a value for addition: ')\n",
    "b = input('Enter another value for addition: ')\n",
    "\n",
    "try:\n",
    "    a = int(a)\n",
    "    b = int(b)\n",
    "    print(f\"sum of two values is : {a + b}\")\n",
    "except ValueError:\n",
    "    print('Given input values are not numbers, please enter values only in numbers.')\n",
    "else:\n",
    "    print('Program completed!')"
   ]
  },
  {
   "cell_type": "code",
   "execution_count": null,
   "metadata": {},
   "outputs": [],
   "source": []
  }
 ],
 "metadata": {
  "kernelspec": {
   "display_name": "Python 3",
   "language": "python",
   "name": "python3"
  },
  "language_info": {
   "codemirror_mode": {
    "name": "ipython",
    "version": 3
   },
   "file_extension": ".py",
   "mimetype": "text/x-python",
   "name": "python",
   "nbconvert_exporter": "python",
   "pygments_lexer": "ipython3",
   "version": "3.7.6"
  }
 },
 "nbformat": 4,
 "nbformat_minor": 4
}
