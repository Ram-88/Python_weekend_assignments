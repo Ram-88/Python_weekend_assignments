{
 "cells": [
  {
   "cell_type": "code",
   "execution_count": null,
   "metadata": {},
   "outputs": [],
   "source": [
    "Req: Use the countries.csv file.\n",
    "    1) Take 10 countries and plot 5 graphs with 2 countries each."
   ]
  },
  {
   "cell_type": "code",
   "execution_count": 3,
   "metadata": {},
   "outputs": [],
   "source": [
    "import numpy as np\n",
    "import pandas as pd\n",
    "from matplotlib import pyplot as plt"
   ]
  },
  {
   "cell_type": "code",
   "execution_count": 4,
   "metadata": {},
   "outputs": [],
   "source": [
    "#Reading the countries.csv file"
   ]
  },
  {
   "cell_type": "code",
   "execution_count": 5,
   "metadata": {},
   "outputs": [
    {
     "data": {
      "text/html": [
       "<div>\n",
       "<style scoped>\n",
       "    .dataframe tbody tr th:only-of-type {\n",
       "        vertical-align: middle;\n",
       "    }\n",
       "\n",
       "    .dataframe tbody tr th {\n",
       "        vertical-align: top;\n",
       "    }\n",
       "\n",
       "    .dataframe thead th {\n",
       "        text-align: right;\n",
       "    }\n",
       "</style>\n",
       "<table border=\"1\" class=\"dataframe\">\n",
       "  <thead>\n",
       "    <tr style=\"text-align: right;\">\n",
       "      <th></th>\n",
       "      <th>country</th>\n",
       "      <th>year</th>\n",
       "      <th>population</th>\n",
       "    </tr>\n",
       "  </thead>\n",
       "  <tbody>\n",
       "    <tr>\n",
       "      <th>0</th>\n",
       "      <td>Afghanistan</td>\n",
       "      <td>1952</td>\n",
       "      <td>8425333</td>\n",
       "    </tr>\n",
       "    <tr>\n",
       "      <th>1</th>\n",
       "      <td>Afghanistan</td>\n",
       "      <td>1957</td>\n",
       "      <td>9240934</td>\n",
       "    </tr>\n",
       "    <tr>\n",
       "      <th>2</th>\n",
       "      <td>Afghanistan</td>\n",
       "      <td>1962</td>\n",
       "      <td>10267083</td>\n",
       "    </tr>\n",
       "    <tr>\n",
       "      <th>3</th>\n",
       "      <td>Afghanistan</td>\n",
       "      <td>1967</td>\n",
       "      <td>11537966</td>\n",
       "    </tr>\n",
       "    <tr>\n",
       "      <th>4</th>\n",
       "      <td>Afghanistan</td>\n",
       "      <td>1972</td>\n",
       "      <td>13079460</td>\n",
       "    </tr>\n",
       "    <tr>\n",
       "      <th>...</th>\n",
       "      <td>...</td>\n",
       "      <td>...</td>\n",
       "      <td>...</td>\n",
       "    </tr>\n",
       "    <tr>\n",
       "      <th>1699</th>\n",
       "      <td>Zimbabwe</td>\n",
       "      <td>1987</td>\n",
       "      <td>9216418</td>\n",
       "    </tr>\n",
       "    <tr>\n",
       "      <th>1700</th>\n",
       "      <td>Zimbabwe</td>\n",
       "      <td>1992</td>\n",
       "      <td>10704340</td>\n",
       "    </tr>\n",
       "    <tr>\n",
       "      <th>1701</th>\n",
       "      <td>Zimbabwe</td>\n",
       "      <td>1997</td>\n",
       "      <td>11404948</td>\n",
       "    </tr>\n",
       "    <tr>\n",
       "      <th>1702</th>\n",
       "      <td>Zimbabwe</td>\n",
       "      <td>2002</td>\n",
       "      <td>11926563</td>\n",
       "    </tr>\n",
       "    <tr>\n",
       "      <th>1703</th>\n",
       "      <td>Zimbabwe</td>\n",
       "      <td>2007</td>\n",
       "      <td>12311143</td>\n",
       "    </tr>\n",
       "  </tbody>\n",
       "</table>\n",
       "<p>1704 rows × 3 columns</p>\n",
       "</div>"
      ],
      "text/plain": [
       "          country  year  population\n",
       "0     Afghanistan  1952     8425333\n",
       "1     Afghanistan  1957     9240934\n",
       "2     Afghanistan  1962    10267083\n",
       "3     Afghanistan  1967    11537966\n",
       "4     Afghanistan  1972    13079460\n",
       "...           ...   ...         ...\n",
       "1699     Zimbabwe  1987     9216418\n",
       "1700     Zimbabwe  1992    10704340\n",
       "1701     Zimbabwe  1997    11404948\n",
       "1702     Zimbabwe  2002    11926563\n",
       "1703     Zimbabwe  2007    12311143\n",
       "\n",
       "[1704 rows x 3 columns]"
      ]
     },
     "execution_count": 5,
     "metadata": {},
     "output_type": "execute_result"
    }
   ],
   "source": [
    "data = pd.read_csv('countries.csv')\n",
    "data"
   ]
  },
  {
   "cell_type": "code",
   "execution_count": 6,
   "metadata": {},
   "outputs": [
    {
     "data": {
      "text/plain": [
       "array(['Afghanistan', 'Albania', 'Algeria', 'Angola', 'Argentina',\n",
       "       'Australia', 'Austria', 'Bahrain', 'Bangladesh', 'Belgium',\n",
       "       'Benin', 'Bolivia', 'Bosnia and Herzegovina', 'Botswana', 'Brazil',\n",
       "       'Bulgaria', 'Burkina Faso', 'Burundi', 'Cambodia', 'Cameroon',\n",
       "       'Canada', 'Central African Republic', 'Chad', 'Chile', 'China',\n",
       "       'Colombia', 'Comoros', 'Congo, Dem. Rep.', 'Congo, Rep.',\n",
       "       'Costa Rica', \"Cote d'Ivoire\", 'Croatia', 'Cuba', 'Czech Republic',\n",
       "       'Denmark', 'Djibouti', 'Dominican Republic', 'Ecuador', 'Egypt',\n",
       "       'El Salvador', 'Equatorial Guinea', 'Eritrea', 'Ethiopia',\n",
       "       'Finland', 'France', 'Gabon', 'Gambia', 'Germany', 'Ghana',\n",
       "       'Greece', 'Guatemala', 'Guinea', 'Guinea-Bissau', 'Haiti',\n",
       "       'Honduras', 'Hong Kong, China', 'Hungary', 'Iceland', 'India',\n",
       "       'Indonesia', 'Iran', 'Iraq', 'Ireland', 'Israel', 'Italy',\n",
       "       'Jamaica', 'Japan', 'Jordan', 'Kenya', 'Korea, Dem. Rep.',\n",
       "       'Korea, Rep.', 'Kuwait', 'Lebanon', 'Lesotho', 'Liberia', 'Libya',\n",
       "       'Madagascar', 'Malawi', 'Malaysia', 'Mali', 'Mauritania',\n",
       "       'Mauritius', 'Mexico', 'Mongolia', 'Montenegro', 'Morocco',\n",
       "       'Mozambique', 'Myanmar', 'Namibia', 'Nepal', 'Netherlands',\n",
       "       'New Zealand', 'Nicaragua', 'Niger', 'Nigeria', 'Norway', 'Oman',\n",
       "       'Pakistan', 'Panama', 'Paraguay', 'Peru', 'Philippines', 'Poland',\n",
       "       'Portugal', 'Puerto Rico', 'Reunion', 'Romania', 'Rwanda',\n",
       "       'Sao Tome and Principe', 'Saudi Arabia', 'Senegal', 'Serbia',\n",
       "       'Sierra Leone', 'Singapore', 'Slovak Republic', 'Slovenia',\n",
       "       'Somalia', 'South Africa', 'Spain', 'Sri Lanka', 'Sudan',\n",
       "       'Swaziland', 'Sweden', 'Switzerland', 'Syria', 'Taiwan',\n",
       "       'Tanzania', 'Thailand', 'Togo', 'Trinidad and Tobago', 'Tunisia',\n",
       "       'Turkey', 'Uganda', 'United Kingdom', 'United States', 'Uruguay',\n",
       "       'Venezuela', 'Vietnam', 'West Bank and Gaza', 'Yemen, Rep.',\n",
       "       'Zambia', 'Zimbabwe'], dtype=object)"
      ]
     },
     "execution_count": 6,
     "metadata": {},
     "output_type": "execute_result"
    }
   ],
   "source": [
    "pd.unique(data['country'])"
   ]
  },
  {
   "cell_type": "code",
   "execution_count": 7,
   "metadata": {},
   "outputs": [],
   "source": [
    "#To plot population graph between Brazil and Cameroon"
   ]
  },
  {
   "cell_type": "code",
   "execution_count": 8,
   "metadata": {},
   "outputs": [
    {
     "data": {
      "text/html": [
       "<div>\n",
       "<style scoped>\n",
       "    .dataframe tbody tr th:only-of-type {\n",
       "        vertical-align: middle;\n",
       "    }\n",
       "\n",
       "    .dataframe tbody tr th {\n",
       "        vertical-align: top;\n",
       "    }\n",
       "\n",
       "    .dataframe thead th {\n",
       "        text-align: right;\n",
       "    }\n",
       "</style>\n",
       "<table border=\"1\" class=\"dataframe\">\n",
       "  <thead>\n",
       "    <tr style=\"text-align: right;\">\n",
       "      <th></th>\n",
       "      <th>country</th>\n",
       "      <th>year</th>\n",
       "      <th>population</th>\n",
       "    </tr>\n",
       "  </thead>\n",
       "  <tbody>\n",
       "    <tr>\n",
       "      <th>168</th>\n",
       "      <td>Brazil</td>\n",
       "      <td>1952</td>\n",
       "      <td>56602560</td>\n",
       "    </tr>\n",
       "    <tr>\n",
       "      <th>169</th>\n",
       "      <td>Brazil</td>\n",
       "      <td>1957</td>\n",
       "      <td>65551171</td>\n",
       "    </tr>\n",
       "    <tr>\n",
       "      <th>170</th>\n",
       "      <td>Brazil</td>\n",
       "      <td>1962</td>\n",
       "      <td>76039390</td>\n",
       "    </tr>\n",
       "    <tr>\n",
       "      <th>171</th>\n",
       "      <td>Brazil</td>\n",
       "      <td>1967</td>\n",
       "      <td>88049823</td>\n",
       "    </tr>\n",
       "    <tr>\n",
       "      <th>172</th>\n",
       "      <td>Brazil</td>\n",
       "      <td>1972</td>\n",
       "      <td>100840058</td>\n",
       "    </tr>\n",
       "    <tr>\n",
       "      <th>173</th>\n",
       "      <td>Brazil</td>\n",
       "      <td>1977</td>\n",
       "      <td>114313951</td>\n",
       "    </tr>\n",
       "    <tr>\n",
       "      <th>174</th>\n",
       "      <td>Brazil</td>\n",
       "      <td>1982</td>\n",
       "      <td>128962939</td>\n",
       "    </tr>\n",
       "    <tr>\n",
       "      <th>175</th>\n",
       "      <td>Brazil</td>\n",
       "      <td>1987</td>\n",
       "      <td>142938076</td>\n",
       "    </tr>\n",
       "    <tr>\n",
       "      <th>176</th>\n",
       "      <td>Brazil</td>\n",
       "      <td>1992</td>\n",
       "      <td>155975974</td>\n",
       "    </tr>\n",
       "    <tr>\n",
       "      <th>177</th>\n",
       "      <td>Brazil</td>\n",
       "      <td>1997</td>\n",
       "      <td>168546719</td>\n",
       "    </tr>\n",
       "    <tr>\n",
       "      <th>178</th>\n",
       "      <td>Brazil</td>\n",
       "      <td>2002</td>\n",
       "      <td>179914212</td>\n",
       "    </tr>\n",
       "    <tr>\n",
       "      <th>179</th>\n",
       "      <td>Brazil</td>\n",
       "      <td>2007</td>\n",
       "      <td>190010647</td>\n",
       "    </tr>\n",
       "  </tbody>\n",
       "</table>\n",
       "</div>"
      ],
      "text/plain": [
       "    country  year  population\n",
       "168  Brazil  1952    56602560\n",
       "169  Brazil  1957    65551171\n",
       "170  Brazil  1962    76039390\n",
       "171  Brazil  1967    88049823\n",
       "172  Brazil  1972   100840058\n",
       "173  Brazil  1977   114313951\n",
       "174  Brazil  1982   128962939\n",
       "175  Brazil  1987   142938076\n",
       "176  Brazil  1992   155975974\n",
       "177  Brazil  1997   168546719\n",
       "178  Brazil  2002   179914212\n",
       "179  Brazil  2007   190010647"
      ]
     },
     "execution_count": 8,
     "metadata": {},
     "output_type": "execute_result"
    }
   ],
   "source": [
    "brazil = data[data.country == 'Brazil']\n",
    "brazil"
   ]
  },
  {
   "cell_type": "code",
   "execution_count": 9,
   "metadata": {},
   "outputs": [
    {
     "data": {
      "text/html": [
       "<div>\n",
       "<style scoped>\n",
       "    .dataframe tbody tr th:only-of-type {\n",
       "        vertical-align: middle;\n",
       "    }\n",
       "\n",
       "    .dataframe tbody tr th {\n",
       "        vertical-align: top;\n",
       "    }\n",
       "\n",
       "    .dataframe thead th {\n",
       "        text-align: right;\n",
       "    }\n",
       "</style>\n",
       "<table border=\"1\" class=\"dataframe\">\n",
       "  <thead>\n",
       "    <tr style=\"text-align: right;\">\n",
       "      <th></th>\n",
       "      <th>country</th>\n",
       "      <th>year</th>\n",
       "      <th>population</th>\n",
       "    </tr>\n",
       "  </thead>\n",
       "  <tbody>\n",
       "    <tr>\n",
       "      <th>228</th>\n",
       "      <td>Cameroon</td>\n",
       "      <td>1952</td>\n",
       "      <td>5009067</td>\n",
       "    </tr>\n",
       "    <tr>\n",
       "      <th>229</th>\n",
       "      <td>Cameroon</td>\n",
       "      <td>1957</td>\n",
       "      <td>5359923</td>\n",
       "    </tr>\n",
       "    <tr>\n",
       "      <th>230</th>\n",
       "      <td>Cameroon</td>\n",
       "      <td>1962</td>\n",
       "      <td>5793633</td>\n",
       "    </tr>\n",
       "    <tr>\n",
       "      <th>231</th>\n",
       "      <td>Cameroon</td>\n",
       "      <td>1967</td>\n",
       "      <td>6335506</td>\n",
       "    </tr>\n",
       "    <tr>\n",
       "      <th>232</th>\n",
       "      <td>Cameroon</td>\n",
       "      <td>1972</td>\n",
       "      <td>7021028</td>\n",
       "    </tr>\n",
       "    <tr>\n",
       "      <th>233</th>\n",
       "      <td>Cameroon</td>\n",
       "      <td>1977</td>\n",
       "      <td>7959865</td>\n",
       "    </tr>\n",
       "    <tr>\n",
       "      <th>234</th>\n",
       "      <td>Cameroon</td>\n",
       "      <td>1982</td>\n",
       "      <td>9250831</td>\n",
       "    </tr>\n",
       "    <tr>\n",
       "      <th>235</th>\n",
       "      <td>Cameroon</td>\n",
       "      <td>1987</td>\n",
       "      <td>10780667</td>\n",
       "    </tr>\n",
       "    <tr>\n",
       "      <th>236</th>\n",
       "      <td>Cameroon</td>\n",
       "      <td>1992</td>\n",
       "      <td>12467171</td>\n",
       "    </tr>\n",
       "    <tr>\n",
       "      <th>237</th>\n",
       "      <td>Cameroon</td>\n",
       "      <td>1997</td>\n",
       "      <td>14195809</td>\n",
       "    </tr>\n",
       "    <tr>\n",
       "      <th>238</th>\n",
       "      <td>Cameroon</td>\n",
       "      <td>2002</td>\n",
       "      <td>15929988</td>\n",
       "    </tr>\n",
       "    <tr>\n",
       "      <th>239</th>\n",
       "      <td>Cameroon</td>\n",
       "      <td>2007</td>\n",
       "      <td>17696293</td>\n",
       "    </tr>\n",
       "  </tbody>\n",
       "</table>\n",
       "</div>"
      ],
      "text/plain": [
       "      country  year  population\n",
       "228  Cameroon  1952     5009067\n",
       "229  Cameroon  1957     5359923\n",
       "230  Cameroon  1962     5793633\n",
       "231  Cameroon  1967     6335506\n",
       "232  Cameroon  1972     7021028\n",
       "233  Cameroon  1977     7959865\n",
       "234  Cameroon  1982     9250831\n",
       "235  Cameroon  1987    10780667\n",
       "236  Cameroon  1992    12467171\n",
       "237  Cameroon  1997    14195809\n",
       "238  Cameroon  2002    15929988\n",
       "239  Cameroon  2007    17696293"
      ]
     },
     "execution_count": 9,
     "metadata": {},
     "output_type": "execute_result"
    }
   ],
   "source": [
    "cameroon = data[data.country == 'Cameroon']\n",
    "cameroon"
   ]
  },
  {
   "cell_type": "code",
   "execution_count": 10,
   "metadata": {},
   "outputs": [
    {
     "data": {
      "image/png": "[encoded data removed]",
      "text/plain": [
       "<Figure size 432x288 with 1 Axes>"
      ]
     },
     "metadata": {
      "needs_background": "light"
     },
     "output_type": "display_data"
    }
   ],
   "source": [
    "plt.plot(brazil.year,brazil.population/10**6)\n",
    "plt.plot(cameroon.year,cameroon.population/10**6)\n",
    "plt.xlabel('Year')\n",
    "plt.ylabel('Population in millions')\n",
    "plt.title('Population comparison year by year')\n",
    "plt.legend([\"Brazil data\",\"Cameroon data\"])\n",
    "plt.show()"
   ]
  },
  {
   "cell_type": "code",
   "execution_count": 11,
   "metadata": {},
   "outputs": [],
   "source": [
    "# Graph 2: India vs Pakistan"
   ]
  },
  {
   "cell_type": "code",
   "execution_count": 12,
   "metadata": {},
   "outputs": [
    {
     "data": {
      "text/html": [
       "<div>\n",
       "<style scoped>\n",
       "    .dataframe tbody tr th:only-of-type {\n",
       "        vertical-align: middle;\n",
       "    }\n",
       "\n",
       "    .dataframe tbody tr th {\n",
       "        vertical-align: top;\n",
       "    }\n",
       "\n",
       "    .dataframe thead th {\n",
       "        text-align: right;\n",
       "    }\n",
       "</style>\n",
       "<table border=\"1\" class=\"dataframe\">\n",
       "  <thead>\n",
       "    <tr style=\"text-align: right;\">\n",
       "      <th></th>\n",
       "      <th>country</th>\n",
       "      <th>year</th>\n",
       "      <th>population</th>\n",
       "    </tr>\n",
       "  </thead>\n",
       "  <tbody>\n",
       "    <tr>\n",
       "      <th>696</th>\n",
       "      <td>India</td>\n",
       "      <td>1952</td>\n",
       "      <td>372000000</td>\n",
       "    </tr>\n",
       "    <tr>\n",
       "      <th>697</th>\n",
       "      <td>India</td>\n",
       "      <td>1957</td>\n",
       "      <td>409000000</td>\n",
       "    </tr>\n",
       "    <tr>\n",
       "      <th>698</th>\n",
       "      <td>India</td>\n",
       "      <td>1962</td>\n",
       "      <td>454000000</td>\n",
       "    </tr>\n",
       "    <tr>\n",
       "      <th>699</th>\n",
       "      <td>India</td>\n",
       "      <td>1967</td>\n",
       "      <td>506000000</td>\n",
       "    </tr>\n",
       "    <tr>\n",
       "      <th>700</th>\n",
       "      <td>India</td>\n",
       "      <td>1972</td>\n",
       "      <td>567000000</td>\n",
       "    </tr>\n",
       "    <tr>\n",
       "      <th>701</th>\n",
       "      <td>India</td>\n",
       "      <td>1977</td>\n",
       "      <td>634000000</td>\n",
       "    </tr>\n",
       "    <tr>\n",
       "      <th>702</th>\n",
       "      <td>India</td>\n",
       "      <td>1982</td>\n",
       "      <td>708000000</td>\n",
       "    </tr>\n",
       "    <tr>\n",
       "      <th>703</th>\n",
       "      <td>India</td>\n",
       "      <td>1987</td>\n",
       "      <td>788000000</td>\n",
       "    </tr>\n",
       "    <tr>\n",
       "      <th>704</th>\n",
       "      <td>India</td>\n",
       "      <td>1992</td>\n",
       "      <td>872000000</td>\n",
       "    </tr>\n",
       "    <tr>\n",
       "      <th>705</th>\n",
       "      <td>India</td>\n",
       "      <td>1997</td>\n",
       "      <td>959000000</td>\n",
       "    </tr>\n",
       "    <tr>\n",
       "      <th>706</th>\n",
       "      <td>India</td>\n",
       "      <td>2002</td>\n",
       "      <td>1034172547</td>\n",
       "    </tr>\n",
       "    <tr>\n",
       "      <th>707</th>\n",
       "      <td>India</td>\n",
       "      <td>2007</td>\n",
       "      <td>1110396331</td>\n",
       "    </tr>\n",
       "  </tbody>\n",
       "</table>\n",
       "</div>"
      ],
      "text/plain": [
       "    country  year  population\n",
       "696   India  1952   372000000\n",
       "697   India  1957   409000000\n",
       "698   India  1962   454000000\n",
       "699   India  1967   506000000\n",
       "700   India  1972   567000000\n",
       "701   India  1977   634000000\n",
       "702   India  1982   708000000\n",
       "703   India  1987   788000000\n",
       "704   India  1992   872000000\n",
       "705   India  1997   959000000\n",
       "706   India  2002  1034172547\n",
       "707   India  2007  1110396331"
      ]
     },
     "execution_count": 12,
     "metadata": {},
     "output_type": "execute_result"
    }
   ],
   "source": [
    "india = data[data.country == 'India']\n",
    "india"
   ]
  },
  {
   "cell_type": "code",
   "execution_count": 13,
   "metadata": {},
   "outputs": [
    {
     "data": {
      "text/html": [
       "<div>\n",
       "<style scoped>\n",
       "    .dataframe tbody tr th:only-of-type {\n",
       "        vertical-align: middle;\n",
       "    }\n",
       "\n",
       "    .dataframe tbody tr th {\n",
       "        vertical-align: top;\n",
       "    }\n",
       "\n",
       "    .dataframe thead th {\n",
       "        text-align: right;\n",
       "    }\n",
       "</style>\n",
       "<table border=\"1\" class=\"dataframe\">\n",
       "  <thead>\n",
       "    <tr style=\"text-align: right;\">\n",
       "      <th></th>\n",
       "      <th>country</th>\n",
       "      <th>year</th>\n",
       "      <th>population</th>\n",
       "    </tr>\n",
       "  </thead>\n",
       "  <tbody>\n",
       "    <tr>\n",
       "      <th>1164</th>\n",
       "      <td>Pakistan</td>\n",
       "      <td>1952</td>\n",
       "      <td>41346560</td>\n",
       "    </tr>\n",
       "    <tr>\n",
       "      <th>1165</th>\n",
       "      <td>Pakistan</td>\n",
       "      <td>1957</td>\n",
       "      <td>46679944</td>\n",
       "    </tr>\n",
       "    <tr>\n",
       "      <th>1166</th>\n",
       "      <td>Pakistan</td>\n",
       "      <td>1962</td>\n",
       "      <td>53100671</td>\n",
       "    </tr>\n",
       "    <tr>\n",
       "      <th>1167</th>\n",
       "      <td>Pakistan</td>\n",
       "      <td>1967</td>\n",
       "      <td>60641899</td>\n",
       "    </tr>\n",
       "    <tr>\n",
       "      <th>1168</th>\n",
       "      <td>Pakistan</td>\n",
       "      <td>1972</td>\n",
       "      <td>69325921</td>\n",
       "    </tr>\n",
       "    <tr>\n",
       "      <th>1169</th>\n",
       "      <td>Pakistan</td>\n",
       "      <td>1977</td>\n",
       "      <td>78152686</td>\n",
       "    </tr>\n",
       "    <tr>\n",
       "      <th>1170</th>\n",
       "      <td>Pakistan</td>\n",
       "      <td>1982</td>\n",
       "      <td>91462088</td>\n",
       "    </tr>\n",
       "    <tr>\n",
       "      <th>1171</th>\n",
       "      <td>Pakistan</td>\n",
       "      <td>1987</td>\n",
       "      <td>105186881</td>\n",
       "    </tr>\n",
       "    <tr>\n",
       "      <th>1172</th>\n",
       "      <td>Pakistan</td>\n",
       "      <td>1992</td>\n",
       "      <td>120065004</td>\n",
       "    </tr>\n",
       "    <tr>\n",
       "      <th>1173</th>\n",
       "      <td>Pakistan</td>\n",
       "      <td>1997</td>\n",
       "      <td>135564834</td>\n",
       "    </tr>\n",
       "    <tr>\n",
       "      <th>1174</th>\n",
       "      <td>Pakistan</td>\n",
       "      <td>2002</td>\n",
       "      <td>153403524</td>\n",
       "    </tr>\n",
       "    <tr>\n",
       "      <th>1175</th>\n",
       "      <td>Pakistan</td>\n",
       "      <td>2007</td>\n",
       "      <td>169270617</td>\n",
       "    </tr>\n",
       "  </tbody>\n",
       "</table>\n",
       "</div>"
      ],
      "text/plain": [
       "       country  year  population\n",
       "1164  Pakistan  1952    41346560\n",
       "1165  Pakistan  1957    46679944\n",
       "1166  Pakistan  1962    53100671\n",
       "1167  Pakistan  1967    60641899\n",
       "1168  Pakistan  1972    69325921\n",
       "1169  Pakistan  1977    78152686\n",
       "1170  Pakistan  1982    91462088\n",
       "1171  Pakistan  1987   105186881\n",
       "1172  Pakistan  1992   120065004\n",
       "1173  Pakistan  1997   135564834\n",
       "1174  Pakistan  2002   153403524\n",
       "1175  Pakistan  2007   169270617"
      ]
     },
     "execution_count": 13,
     "metadata": {},
     "output_type": "execute_result"
    }
   ],
   "source": [
    "pakistan = data[data.country == 'Pakistan']\n",
    "pakistan"
   ]
  },
  {
   "cell_type": "code",
   "execution_count": 14,
   "metadata": {},
   "outputs": [
    {
     "data": {
      "image/png": "[encoded data removed]",
      "text/plain": [
       "<Figure size 432x288 with 1 Axes>"
      ]
     },
     "metadata": {
      "needs_background": "light"
     },
     "output_type": "display_data"
    }
   ],
   "source": [
    "plt.plot(india.year,india.population/10**6)\n",
    "plt.plot(pakistan.year,pakistan.population/10**6)\n",
    "plt.xlabel('Year')\n",
    "plt.ylabel('Population in millions')\n",
    "plt.title('Population comparision year by year')\n",
    "plt.legend([\"India data\",\"Pakistan data\"])\n",
    "plt.show()"
   ]
  },
  {
   "cell_type": "code",
   "execution_count": 15,
   "metadata": {},
   "outputs": [],
   "source": [
    "# Graph 3: Malaysia vs Singapore"
   ]
  },
  {
   "cell_type": "code",
   "execution_count": 16,
   "metadata": {},
   "outputs": [],
   "source": [
    "malaysia = data[data.country == 'Malaysia']\n",
    "singapore = data[data.country == 'Singapore']"
   ]
  },
  {
   "cell_type": "code",
   "execution_count": 17,
   "metadata": {},
   "outputs": [
    {
     "data": {
      "image/png": "[encoded data removed]",
      "text/plain": [
       "<Figure size 432x288 with 1 Axes>"
      ]
     },
     "metadata": {
      "needs_background": "light"
     },
     "output_type": "display_data"
    }
   ],
   "source": [
    "plt.plot(malaysia.year,malaysia.population/10**6)\n",
    "plt.plot(singapore.year,singapore.population/10**6)\n",
    "plt.xlabel('Year')\n",
    "plt.ylabel('Population in millions')\n",
    "plt.title('Population comparision year by year')\n",
    "plt.legend([\"Malysia data\",\"Singapore data\"])\n",
    "plt.show()"
   ]
  },
  {
   "cell_type": "code",
   "execution_count": 18,
   "metadata": {},
   "outputs": [],
   "source": [
    "#Graph 4: Cuba vs Ghana"
   ]
  },
  {
   "cell_type": "code",
   "execution_count": 19,
   "metadata": {},
   "outputs": [],
   "source": [
    "cuba = data[data.country == 'Cuba']\n",
    "ghana = data[data.country == 'Ghana']"
   ]
  },
  {
   "cell_type": "code",
   "execution_count": 20,
   "metadata": {},
   "outputs": [
    {
     "data": {
      "image/png": "[encoded data removed]",
      "text/plain": [
       "<Figure size 432x288 with 1 Axes>"
      ]
     },
     "metadata": {
      "needs_background": "light"
     },
     "output_type": "display_data"
    }
   ],
   "source": [
    "plt.plot(cuba.year,cuba.population/10**6)\n",
    "plt.plot(ghana.year,ghana.population/10**6)\n",
    "plt.xlabel('Year')\n",
    "plt.ylabel('Population in millions')\n",
    "plt.title('Population comparision year by year')\n",
    "plt.legend([\"Cuba data\",\"Ghana data\"])\n",
    "plt.show()"
   ]
  },
  {
   "cell_type": "code",
   "execution_count": 21,
   "metadata": {},
   "outputs": [],
   "source": [
    "# Graph 5: Spain vs Sweden"
   ]
  },
  {
   "cell_type": "code",
   "execution_count": 22,
   "metadata": {},
   "outputs": [],
   "source": [
    "spain = data[data.country == 'Spain']\n",
    "sweden = data[data.country == 'Sweden']"
   ]
  },
  {
   "cell_type": "code",
   "execution_count": 23,
   "metadata": {},
   "outputs": [
    {
     "data": {
      "image/png": "[encoded data removed]",
      "text/plain": [
       "<Figure size 432x288 with 1 Axes>"
      ]
     },
     "metadata": {
      "needs_background": "light"
     },
     "output_type": "display_data"
    }
   ],
   "source": [
    "plt.plot(spain.year,spain.population/10**6)\n",
    "plt.plot(sweden.year,sweden.population/10**6)\n",
    "plt.xlabel('Year')\n",
    "plt.ylabel('Population in millions')\n",
    "plt.title('Population comparision year by year')\n",
    "plt.legend([\"Spain data\",\"Sweden data\"])\n",
    "plt.show()"
   ]
  },
  {
   "cell_type": "code",
   "execution_count": null,
   "metadata": {},
   "outputs": [],
   "source": [
    "# All 10 country comparision in one graph"
   ]
  },
  {
   "cell_type": "code",
   "execution_count": 25,
   "metadata": {},
   "outputs": [
    {
     "data": {
      "image/png": "[encoded data removed]",
      "text/plain": [
       "<Figure size 432x288 with 1 Axes>"
      ]
     },
     "metadata": {
      "needs_background": "light"
     },
     "output_type": "display_data"
    }
   ],
   "source": [
    "plt.plot(brazil.year,brazil.population/10**6)\n",
    "plt.plot(cameroon.year,cameroon.population/10**6)\n",
    "plt.plot(india.year,india.population/10**6)\n",
    "plt.plot(pakistan.year,pakistan.population/10**6)\n",
    "plt.plot(malaysia.year,malaysia.population/10**6)\n",
    "plt.plot(singapore.year,singapore.population/10**6)\n",
    "plt.plot(cuba.year,cuba.population/10**6)\n",
    "plt.plot(ghana.year,ghana.population/10**6)\n",
    "plt.plot(spain.year,spain.population/10**6)\n",
    "plt.plot(sweden.year,sweden.population/10**6)\n",
    "plt.xlabel('Year')\n",
    "plt.ylabel('Population in millions')\n",
    "plt.title('Population comparision year by year')\n",
    "plt.legend([\"Brazil\",\"Cameroon\",\"India\",\"Pakistan\",\"Malaysia\",\"Singapore\",\"Cuba\",\"Ghana\",\"Spain\",\"Sweden\"])\n",
    "plt.show()"
   ]
  },
  {
   "cell_type": "code",
   "execution_count": null,
   "metadata": {},
   "outputs": [],
   "source": []
  }
 ],
 "metadata": {
  "kernelspec": {
   "display_name": "Python 3",
   "language": "python",
   "name": "python3"
  },
  "language_info": {
   "codemirror_mode": {
    "name": "ipython",
    "version": 3
   },
   "file_extension": ".py",
   "mimetype": "text/x-python",
   "name": "python",
   "nbconvert_exporter": "python",
   "pygments_lexer": "ipython3",
   "version": "3.7.6"
  }
 },
 "nbformat": 4,
 "nbformat_minor": 4
}
