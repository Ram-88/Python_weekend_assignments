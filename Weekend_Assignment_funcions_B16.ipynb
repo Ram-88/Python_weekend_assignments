{
 "cells": [
  {
   "cell_type": "code",
   "execution_count": null,
   "metadata": {},
   "outputs": [],
   "source": [
    "Req:T-Shirt: Write a function called make_shirt() that accepts a size and the text of a message that should be printed \n",
    "on the shirt. The function should print a sentence summarizing the size of the shirt and the message printed on it.\n",
    "\n",
    "Call the function once using positional arguments to make a shirt. Call the function a second time using keyword arguments."
   ]
  },
  {
   "cell_type": "code",
   "execution_count": 5,
   "metadata": {},
   "outputs": [],
   "source": [
    "def make_shirt(size,text):\n",
    "    \"\"\"Function to display the size and print message on T-Shirt\"\"\"\n",
    "    print(f\"This T-shirt size is '{size}' and '{text}' is the message printed on T-shirt\")\n",
    "    "
   ]
  },
  {
   "cell_type": "code",
   "execution_count": 6,
   "metadata": {},
   "outputs": [
    {
     "name": "stdout",
     "output_type": "stream",
     "text": [
      "This T-shirt size is 'medium' and 'Being Human' is the message printed on T-shirt\n"
     ]
    }
   ],
   "source": [
    "make_shirt('medium','Being Human') #Positional arguments."
   ]
  },
  {
   "cell_type": "code",
   "execution_count": 9,
   "metadata": {},
   "outputs": [
    {
     "name": "stdout",
     "output_type": "stream",
     "text": [
      "This T-shirt size is 'Small' and 'I love myself' is the message printed on T-shirt\n"
     ]
    }
   ],
   "source": [
    "make_shirt(text='I love myself',size='Small') #Keyword arguments"
   ]
  },
  {
   "cell_type": "code",
   "execution_count": null,
   "metadata": {},
   "outputs": [],
   "source": []
  },
  {
   "cell_type": "code",
   "execution_count": null,
   "metadata": {},
   "outputs": [],
   "source": [
    "Req 2:\n",
    "Large Shirts: Modify the make_shirt() function so that shirts are large by default with a message that reads I love Python. \n",
    "    Make a large shirt and a medium shirt with the default message, and a shirt of any size with a different message."
   ]
  },
  {
   "cell_type": "code",
   "execution_count": 8,
   "metadata": {},
   "outputs": [],
   "source": [
    "#modifying the make_shirt function"
   ]
  },
  {
   "cell_type": "code",
   "execution_count": 10,
   "metadata": {},
   "outputs": [],
   "source": [
    "def make_shirt(size,text='I love Python'):\n",
    "    \"\"\"Function to print size and message of a shirt\"\"\"\n",
    "    print(f\"This T-shirt size is '{size}' and '{text}' is the message printed on T-shirt.\")"
   ]
  },
  {
   "cell_type": "code",
   "execution_count": 11,
   "metadata": {},
   "outputs": [
    {
     "name": "stdout",
     "output_type": "stream",
     "text": [
      "This T-shirt size is 'Large' and 'I love Python' is the message printed on T-shirt.\n"
     ]
    }
   ],
   "source": [
    "make_shirt('Large') #Default arguments, calling with Large size."
   ]
  },
  {
   "cell_type": "code",
   "execution_count": 12,
   "metadata": {},
   "outputs": [
    {
     "name": "stdout",
     "output_type": "stream",
     "text": [
      "This T-shirt size is 'Medium' and 'I love Python' is the message printed on T-shirt.\n"
     ]
    }
   ],
   "source": [
    "make_shirt('Medium') #Default arguments, calling with Medium size."
   ]
  },
  {
   "cell_type": "code",
   "execution_count": 13,
   "metadata": {},
   "outputs": [
    {
     "name": "stdout",
     "output_type": "stream",
     "text": [
      "This T-shirt size is 'X-large' and 'I am a python programmer' is the message printed on T-shirt.\n"
     ]
    }
   ],
   "source": [
    "make_shirt('X-large','I am a python programmer') #Calling with a different message."
   ]
  },
  {
   "cell_type": "code",
   "execution_count": null,
   "metadata": {},
   "outputs": [],
   "source": []
  },
  {
   "cell_type": "code",
   "execution_count": null,
   "metadata": {},
   "outputs": [],
   "source": [
    "Req 3:\n",
    "    Cities: Write a function called describe_city() that accepts the name of a city and its country. \n",
    "        The function should print a simple sentence, such as Reykjavik is in Iceland. \n",
    "        Give the parameter for the country a default value.\n",
    "        Call your function for three different cities, at least one of which is not in the default country."
   ]
  },
  {
   "cell_type": "code",
   "execution_count": 18,
   "metadata": {},
   "outputs": [],
   "source": [
    "def describe_city(city,country='india'):\n",
    "    \"\"\"Function to display a city and its country\"\"\"\n",
    "    print(f\"{city.title()} is in {country.title()}. \")\n",
    "    "
   ]
  },
  {
   "cell_type": "code",
   "execution_count": 19,
   "metadata": {},
   "outputs": [
    {
     "name": "stdout",
     "output_type": "stream",
     "text": [
      "Reykjavik is in Iceland. \n"
     ]
    }
   ],
   "source": [
    "describe_city('reykjavik','iceland') #Displaying a city which is not in default value."
   ]
  },
  {
   "cell_type": "code",
   "execution_count": 20,
   "metadata": {},
   "outputs": [
    {
     "name": "stdout",
     "output_type": "stream",
     "text": [
      "Milan is in Italy. \n"
     ]
    }
   ],
   "source": [
    "describe_city('milan','italy')"
   ]
  },
  {
   "cell_type": "code",
   "execution_count": 21,
   "metadata": {},
   "outputs": [
    {
     "name": "stdout",
     "output_type": "stream",
     "text": [
      "Chennai is in India. \n"
     ]
    }
   ],
   "source": [
    "describe_city('chennai') #Displaying a city with a default value."
   ]
  },
  {
   "cell_type": "code",
   "execution_count": 22,
   "metadata": {},
   "outputs": [
    {
     "name": "stdout",
     "output_type": "stream",
     "text": [
      "Bangalore is in India. \n"
     ]
    }
   ],
   "source": [
    "describe_city('bangalore')"
   ]
  },
  {
   "cell_type": "code",
   "execution_count": null,
   "metadata": {},
   "outputs": [],
   "source": []
  }
 ],
 "metadata": {
  "kernelspec": {
   "display_name": "Python 3",
   "language": "python",
   "name": "python3"
  },
  "language_info": {
   "codemirror_mode": {
    "name": "ipython",
    "version": 3
   },
   "file_extension": ".py",
   "mimetype": "text/x-python",
   "name": "python",
   "nbconvert_exporter": "python",
   "pygments_lexer": "ipython3",
   "version": "3.7.6"
  }
 },
 "nbformat": 4,
 "nbformat_minor": 4
}
